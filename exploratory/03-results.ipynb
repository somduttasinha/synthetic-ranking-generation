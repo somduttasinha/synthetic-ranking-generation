{
 "cells": [
  {
   "cell_type": "code",
   "execution_count": null,
   "id": "6be7ea15-31e2-4b57-8320-b7da6883c78a",
   "metadata": {},
   "outputs": [],
   "source": [
    "import sys\n",
    "import os\n",
    "\n",
    "import numpy as np\n",
    "import pandas as pd\n",
    "import random\n",
    "import math\n",
    "sys.path.append(os.path.abspath(os.path.join(os.getcwd(), '..', 'src')))\n",
    "\n",
    "from simulate import simulate_rankings\n",
    "from standard_distributions import *\n",
    "\n",
    "import matplotlib.pyplot as plt"
   ]
  },
  {
   "cell_type": "code",
   "execution_count": null,
   "id": "36c15375-5cd1-4ed7-a2d7-80c50755040b",
   "metadata": {},
   "outputs": [],
   "source": [
    "def get_formatted_dataframe(S, L, agreement_probabilities, case_list):\n",
    "    data = {\n",
    "            'S' : S,\n",
    "            'L' : L,\n",
    "            'overlap_probability' : agreement_probabilities,\n",
    "            'case' : case_list\n",
    "    }\n",
    "    \n",
    "    def highlight_equal_values(x):\n",
    "        color = 'background-color: green'\n",
    "        default = ''\n",
    "        case1 = x['case'] == 1\n",
    "        case2 = x['case'] == 2\n",
    "        case3 = x['case'] == 3\n",
    "        case4 = x['case'] == 4 \n",
    "    \n",
    "        if case1:\n",
    "            return ['background-color: red','background-color: white', 'background-color: white', 'background-color: white']\n",
    "        if case2:\n",
    "            return ['background-color: white','background-color: purple', 'background-color: white', 'background-color: white']\n",
    "        if case3:\n",
    "            return ['background-color: #00A6D6','background-color: #00A6D6', 'background-color: white', 'background-color: white']\n",
    "        if case4:\n",
    "            return ['background-color: red','background-color: purple', 'background-color: white', 'background-color: white']\n",
    "        else:\n",
    "            return ['background-color: white'] * len(x)\n",
    "    \n",
    "    \n",
    "    df = pd.DataFrame(data, index =  np.arange(1, np.max([len(S), len(L)]) + 1))\n",
    "    df.index.name ='Rank'\n",
    "    \n",
    "    return df.style.apply(highlight_equal_values, axis=1)"
   ]
  },
  {
   "cell_type": "code",
   "execution_count": null,
   "id": "ab5a9025-4442-40f1-864f-c35b177f98e6",
   "metadata": {},
   "outputs": [],
   "source": [
    "def get_tied_dataframe(S, L, agreement_probability, case_list):\n",
    "\n",
    "    S_flat = []\n",
    "    L_flat = []\n",
    "    S_colours = []\n",
    "    L_colours = []\n",
    "\n",
    "    def generate_random_colour():\n",
    "        r = random.randint(0, 255)\n",
    "        g = random.randint(0, 255)\n",
    "        b = random.randint(0, 255)\n",
    "        return f'#{r:02x}{g:02x}{b:02x}'\n",
    "        \n",
    "\n",
    "    for s in S:\n",
    "        if isinstance(s, list) and len(s)>1:\n",
    "            colour = generate_random_colour()\n",
    "            for tied_item in s:\n",
    "                S_flat.append(tied_item)\n",
    "                S_colours.append(colour)\n",
    "        else:\n",
    "            S_flat.append(s)\n",
    "            S_colours.append(\"white\")\n",
    "\n",
    "    for l in L:\n",
    "        if isinstance(l, list) and len(l)>1:\n",
    "            colour = generate_random_colour()\n",
    "            for tied_item in l:\n",
    "                L_flat.append(tied_item)\n",
    "                L_colours.append(colour)\n",
    "        else:\n",
    "            L_flat.append(l)\n",
    "            L_colours.append(\"white\")\n",
    "    \n",
    "    data = {\n",
    "            'S' : S_flat,\n",
    "            'S_colour' : S_colours,\n",
    "            'L' : L_flat,\n",
    "            'L_colour' : L_colours,\n",
    "            'overlap_probability' : agreement_probability,\n",
    "            'case' : case_list\n",
    "    }\n",
    "\n",
    "    def colour_tied_items(x):\n",
    "        return ['background-color: ' + x['S_colour'], 'background-color: white', 'background-color: ' + x['L_colour'], 'background-color: white', 'background-color: white', 'background-color: white']\n",
    "        \n",
    "\n",
    "    df = pd.DataFrame(data, index =  np.arange(1, np.max([len(S_flat), len(L_flat)]) + 1))\n",
    "    df.index.name ='$d$'\n",
    "\n",
    "    show = ['S', 'L', 'overlap_probability', 'case']\n",
    "\n",
    "\n",
    "    styled_df = df.style.apply(colour_tied_items, axis=1)\n",
    "    styled_df.hide([col for col in df.columns if col not in show], axis=1)\n",
    "    return styled_df"
   ]
  },
  {
   "cell_type": "markdown",
   "id": "9f54d466-5d52-4642-8b1b-ac5fb656160c",
   "metadata": {},
   "source": [
    "## Examples"
   ]
  },
  {
   "cell_type": "code",
   "execution_count": null,
   "id": "7e21f8e0-3b07-4f67-b446-a02c267e9a2b",
   "metadata": {},
   "outputs": [],
   "source": [
    "S, L, agree_probs, case_list = simulate_rankings(n=500, len_x = 500, len_y = 500, overlap_probability_function=exponential_decay(theta=1), conjointness=1,\n",
    "                                                truncate_rankings=False)\n",
    "\n",
    "\n",
    "get_formatted_dataframe(S, L, agree_probs, case_list)"
   ]
  },
  {
   "cell_type": "code",
   "execution_count": null,
   "id": "efe71e16-d28c-4aaa-a539-9ca06e841c3e",
   "metadata": {},
   "outputs": [],
   "source": [
    "n = 2000\n",
    "\n",
    "prob_dist_x = norm(loc=(0.75 * n), scale=n/4)\n",
    "prob_dist_y = norm(loc=(0.25 * n), scale=n/16)\n",
    "\n",
    "depths = np.arange(1, n+1)\n",
    "probabilities_x = prob_dist_x.pdf(depths)\n",
    "probabilities_y = prob_dist_y.pdf(depths)\n",
    "    \n",
    "probabilities_x = np.abs(probabilities_x)\n",
    "probabilities_x /= probabilities_x.sum()\n",
    "\n",
    "probabilities_y = prob_dist_y.pdf(depths)\n",
    "    \n",
    "probabilities_y = np.abs(probabilities_y)\n",
    "probabilities_y /= probabilities_y.sum()\n",
    "\n",
    "\n",
    "\n",
    "S, L, agreement_probability, case_list = simulate_rankings(n=n, len_x = 0, len_y = 0, overlap_probability_function=exponential_decay(theta=1), \n",
    "                                                           tie_probabilities_x=probabilities_x, tie_probabilities_y=probabilities_y,conjointness=1,                                               \n",
    "                                                 truncate_rankings=False, frac_ties_x=0.6, n_groups_x=5, frac_ties_y=0.6, n_groups_y=5)\n",
    "get_tied_dataframe(S, L, agreement_probability, case_list)"
   ]
  },
  {
   "cell_type": "markdown",
   "id": "0bb89aae-35fb-4552-8887-d3be7fd4a7a4",
   "metadata": {},
   "source": [
    "## Ties Analysis"
   ]
  },
  {
   "cell_type": "code",
   "execution_count": null,
   "id": "8a87a305-2519-4d8e-a3eb-fe90d49c89fb",
   "metadata": {},
   "outputs": [],
   "source": [
    "# groups of 100\n",
    "\n",
    "tie_frequency = np.zeros(20)\n",
    "\n",
    "depth = 1\n",
    "\n",
    "for i in range(len(L)):\n",
    "    if isinstance(L[i], list):\n",
    "        for j in range(len(L[i])):\n",
    "            depth_group = math.floor(depth / 100)\n",
    "            tie_frequency[depth_group] += 1\n",
    "            depth += 1\n",
    "        i += (len(L[i]) + 1) \n",
    "    else:\n",
    "        depth += 1\n",
    "           \n",
    "\n",
    "bins = np.arange(1, 21)\n",
    "\n",
    "plt.xlabel('Depth Group')\n",
    "plt.ylabel('Number of tied items')\n",
    "plt.bar(bins,tie_frequency)"
   ]
  },
  {
   "cell_type": "code",
   "execution_count": null,
   "id": "ef9a9e2a-7e8b-41d9-8a55-b4349848bbbf",
   "metadata": {},
   "outputs": [],
   "source": [
    "def zero():\n",
    "    def f(depth, n):\n",
    "        return 0\n",
    "    return f"
   ]
  },
  {
   "cell_type": "code",
   "execution_count": null,
   "id": "b1ef8353-ccde-4543-bf10-8939028298ed",
   "metadata": {},
   "outputs": [],
   "source": []
  },
  {
   "cell_type": "code",
   "execution_count": null,
   "id": "8ab788e7-2ded-484b-81fa-085696f9654f",
   "metadata": {},
   "outputs": [],
   "source": [
    "def agreements_empirical(f, N, print_progress=False):\n",
    "    agreement_average = np.ndarray((100, N))\n",
    "    \n",
    "    for trial in range(100):\n",
    "        if print_progress:\n",
    "            print(\"trial\", trial)\n",
    "            \n",
    "        S, L, _, _ = simulate_rankings(n=N, len_x = 0, len_y = 0, overlap_probability_function=f, conjointness=1, truncate_rankings=False)\n",
    "        for i in range(1, len(S)+1):\n",
    "            intersection = set(S[:i]).intersection(set(L[:i]))\n",
    "            agreement_average[trial][i-1] = len(intersection)/i\n",
    "\n",
    "    return agreement_average"
   ]
  },
  {
   "cell_type": "code",
   "execution_count": null,
   "id": "90ee0b52-6b90-462e-b353-b36410365592",
   "metadata": {},
   "outputs": [],
   "source": [
    "def agreements_analytical(f, N):\n",
    "    xs = np.zeros(N)\n",
    "    \n",
    "    for d in range(1, N):\n",
    "        prob_artificial_increase = f(d-1, N)\n",
    "        expected_artificial_increase = prob_artificial_increase * (((0.5 * (d / N)) + 0.5) + (0.25 * (1 - np.exp(-N * (1 - (d/N))**2))) + (0.5) + ((1 - prob_artificial_increase) * (2*d)/N))\n",
    "    \n",
    "        prob_natural_increase = (1 - f(d-1, N))\n",
    "        expected_natural_increase = prob_natural_increase * ((2 * d) / N)\n",
    "    \n",
    "        X_new = xs[d-1] + expected_artificial_increase + expected_natural_increase\n",
    "        xs[d] = X_new\n",
    "    \n",
    "    \n",
    "    agreements = [(xs[i] / (i+1)) for i in range(N)]\n",
    "    return agreements\n"
   ]
  },
  {
   "cell_type": "code",
   "execution_count": null,
   "id": "7a58c27d-00d4-43ef-9489-7cdd9d6ca3ef",
   "metadata": {},
   "outputs": [],
   "source": [
    "ae = agreements_empirical(zero(), 1000)"
   ]
  },
  {
   "cell_type": "code",
   "execution_count": null,
   "id": "8950a9aa-d057-45bd-b6f0-dff412030f58",
   "metadata": {},
   "outputs": [],
   "source": [
    "aa = agreements_analytical(zero(), 1000)"
   ]
  },
  {
   "cell_type": "code",
   "execution_count": null,
   "id": "9907c34b-3e3a-46eb-8d6a-921c92016d42",
   "metadata": {},
   "outputs": [],
   "source": [
    "depths = np.arange(1, 1001)\n",
    "ys = depths / 1000\n",
    "\n",
    "plt.plot(depths, ae.mean(axis=0), 'y>', label='Average Empirical Agreement')\n",
    "# plt.plot(depths, aa, 'r*', label='Analytical Agreement Estimate')\n",
    "plt.plot(depths, ys, 'b-', label='Uniformly Random, $d/n$')\n",
    "plt.legend()\n",
    "plt.xlabel('Depth, $d$')\n",
    "plt.ylabel('Agreement, $A_d$')\n",
    "plt.title('No Overlap Probability Function, $n = 1000$')\n",
    "plt.savefig('no_overlap_function.png')\n",
    "plt.show()"
   ]
  },
  {
   "cell_type": "code",
   "execution_count": null,
   "id": "0383d6b2-aeaa-411f-9616-3e68c0fea3c8",
   "metadata": {},
   "outputs": [],
   "source": [
    "ae_1 = agreements_empirical(exponential_decay(theta=1), 1000)\n",
    "ae_half = agreements_empirical(exponential_decay(theta=0.5), 1000)\n",
    "# aa = agreements_analytical(exponential_decay(theta=1), 1000)"
   ]
  },
  {
   "cell_type": "code",
   "execution_count": null,
   "id": "2134e4b0-40ee-46c9-a36b-e9440dfd5927",
   "metadata": {
    "scrolled": true
   },
   "outputs": [],
   "source": [
    "depths = np.arange(1, 1001)\n",
    "ys = depths / 1000\n",
    "\n",
    "plt.plot(depths, ae_1.mean(axis=0), 'y>', label=r'Average Empirical Agreement, $\\theta = 1$')\n",
    "\n",
    "plt.plot(depths, ae_half.mean(axis=0), 'r*', label=r'Average Empirical Agreement, $\\theta = 0.5$')\n",
    "\n",
    "\n",
    "# plt.plot(depths, aa, 'r*', label='Analytical Agreement Estimate')\n",
    "plt.plot(depths, ys, 'b-', label='Uniformly Random, $d/n$')\n",
    "plt.legend()\n",
    "plt.xlabel('Depth, $d$')\n",
    "plt.ylabel('Agreement, $A_d$')\n",
    "plt.title(r'Exponential Decay Overlap Probability Function, n = 1000$')\n",
    "plt.savefig('exponential_decay_overlap_function.png')\n",
    "plt.show()"
   ]
  },
  {
   "cell_type": "markdown",
   "id": "f4aa79be-8577-46ce-b5d9-736532da5e03",
   "metadata": {},
   "source": [
    "Analytical solution to expected overlap/agreement"
   ]
  },
  {
   "cell_type": "code",
   "execution_count": null,
   "id": "f46640b4-82a4-436d-8488-1099fd3d1f06",
   "metadata": {},
   "outputs": [],
   "source": [
    "ae = agreements_empirical(exponential_decay(theta=0.6), 1000)\n",
    "aa = agreements_analytical(exponential_decay(theta=0.6), 1000)"
   ]
  },
  {
   "cell_type": "code",
   "execution_count": null,
   "id": "386a5e9e-2deb-49fd-80d1-3a5049c7c33b",
   "metadata": {},
   "outputs": [],
   "source": [
    "depths = np.arange(1, 1001)\n",
    "ys = depths / 1000\n",
    "\n",
    "plt.plot(depths, ae.mean(axis=0), 'y>', label='Average Empirical Agreement')\n",
    "plt.plot(depths, aa, 'r*', label='Analytical Agreement Estimate')\n",
    "plt.plot(depths, ys, 'b-', label='Uniformly Random')\n",
    "plt.legend()\n",
    "plt.xlabel('Depth')\n",
    "plt.ylabel('Agreement')\n",
    "plt.title('Exponential Decay Overlap Probability Function')\n",
    "plt.show()"
   ]
  },
  {
   "cell_type": "code",
   "execution_count": null,
   "id": "94b5743d-9a5c-4a49-9261-65d9be8491ef",
   "metadata": {},
   "outputs": [],
   "source": [
    "aa = agreements_analytical(gaussian_distribution(200, 9), 1000)\n",
    "#ae = agreements_empirical(gaussian_distribution(200, 30), 1000)"
   ]
  },
  {
   "cell_type": "code",
   "execution_count": null,
   "id": "3588ad27-7e2e-431b-b91e-aebd6503c64d",
   "metadata": {},
   "outputs": [],
   "source": [
    "depths = np.arange(1, 1001)\n",
    "ys = depths / 1000\n",
    "\n",
    "# plt.plot(depths, ae.mean(axis=0), 'y>', label='Average Empirical Agreement')\n",
    "plt.plot(depths, aa, 'r*', label='Analytical Agreement Estimate')\n",
    "plt.plot(depths, ys, 'b-', label='True')\n",
    "plt.legend()\n",
    "plt.xlabel('Depth')\n",
    "plt.ylabel('Agreement')\n",
    "plt.title('N(200, 30) Overlap Probability Function')\n",
    "plt.show()"
   ]
  },
  {
   "cell_type": "code",
   "execution_count": null,
   "id": "4898a61b-e8f9-41d8-9ca2-d4ea8b61d6ac",
   "metadata": {},
   "outputs": [],
   "source": [
    "# qualitatitiver "
   ]
  }
 ],
 "metadata": {
  "kernelspec": {
   "display_name": "Python 3 (ipykernel)",
   "language": "python",
   "name": "python3"
  },
  "language_info": {
   "codemirror_mode": {
    "name": "ipython",
    "version": 3
   },
   "file_extension": ".py",
   "mimetype": "text/x-python",
   "name": "python",
   "nbconvert_exporter": "python",
   "pygments_lexer": "ipython3",
   "version": "3.11.4"
  }
 },
 "nbformat": 4,
 "nbformat_minor": 5
}
