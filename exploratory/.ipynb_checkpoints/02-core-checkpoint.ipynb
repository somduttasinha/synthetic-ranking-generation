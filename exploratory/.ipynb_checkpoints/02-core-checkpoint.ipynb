{
 "cells": [
  {
   "cell_type": "code",
   "execution_count": null,
   "id": "ddc966eb-5d49-4b01-900a-b0616b3b8203",
   "metadata": {},
   "outputs": [],
   "source": [
    "import math\n",
    "import numpy as np\n",
    "import random\n",
    "import rbo\n",
    "import matplotlib.pyplot as plt\n",
    "from collections import Counter\n",
    "import pandas as pd\n",
    "import dataframe_image as dfi"
   ]
  },
  {
   "cell_type": "code",
   "execution_count": null,
   "id": "8b586543-1668-4c3f-bf88-19174d3cfd21",
   "metadata": {},
   "outputs": [],
   "source": [
    "def jaccard_similarity(set1, set2):\n",
    "    intersection = set1.intersection(set2)\n",
    "    union = set1.union(set2)\n",
    "\n",
    "    return len(intersection) / len(union)"
   ]
  },
  {
   "cell_type": "code",
   "execution_count": null,
   "id": "f2850d6c-c8b7-4740-9ed1-09d96633c84d",
   "metadata": {},
   "outputs": [],
   "source": [
    "def generate_domains(a, b, jac_value):\n",
    "    # first, we find the size of the intersection based on the given jaccard_value\n",
    "    intersection_size = math.floor((jac_value * (a + b)) / (1 + jac_value))\n",
    "\n",
    "    set_a = set()\n",
    "    set_b = set()\n",
    "    \n",
    "    for i in range(intersection_size):\n",
    "        item_label = 'i' + str(i)\n",
    "        set_a.add(item_label)\n",
    "        set_b.add(item_label)\n",
    "\n",
    "    # remaining number of elements\n",
    "    \n",
    "    a_rem = a - intersection_size\n",
    "    b_rem = b - intersection_size\n",
    "\n",
    "    for i in range(a_rem):\n",
    "        set_a.add('a' + str(i))\n",
    "\n",
    "    for i in range(b_rem):\n",
    "        set_b.add('b' + str(i))\n",
    "\n",
    "    \n",
    "\n",
    "    return set_a, set_b"
   ]
  },
  {
   "cell_type": "code",
   "execution_count": null,
   "id": "71b2c073-e5b7-4220-a189-7f1520c9070e",
   "metadata": {},
   "outputs": [],
   "source": [
    "def agreement_probability(theta):\n",
    "    # theta determines the level of top-weightedness.\n",
    "    def f(depth, n):    \n",
    "        d = depth - 1 # depth is 1 indexed while the function is 0 indexed\n",
    "    \n",
    "        k = (0.3 * n) / np.log(n)\n",
    "        \n",
    "        exp_term = np.exp(-1 * (d / k))\n",
    "    \n",
    "        uniform_term = 1 / n\n",
    "\n",
    "        return (theta * exp_term) + ((1 - theta) * uniform_term)\n",
    "        \n",
    "    return f\n",
    "\n",
    "    "
   ]
  },
  {
   "cell_type": "code",
   "execution_count": null,
   "id": "d4361cd2-d4d1-4361-8dbd-5db94d2afd63",
   "metadata": {},
   "outputs": [],
   "source": [
    "def simulate_rankings(n, len_x, len_y, overlap_probability_function, conjointness=1, return_truncated=True):\n",
    "    '''\n",
    "    - the overlap function is a discrete probability function over the number of items in the domain. It takes as input the current depth d\n",
    "    '''\n",
    "    \n",
    "    # generate the two domains depending on the degree of conjointness\n",
    "    a, b = generate_domains(n, n, conjointness)\n",
    "\n",
    "    S = []\n",
    "    L = []\n",
    "    case = []\n",
    "    agree_probs = []\n",
    "    \n",
    "    for depth in range(1, n+1):\n",
    "        # sample randomly from domains a and b without replacement\n",
    "\n",
    "        # agree_prob = agreement_probability(depth = depth, theta = theta, n = n)\n",
    "        agree_prob = overlap_probability_function(depth = depth, n = n) # possibly allow for the option of adding more parameters\n",
    "\n",
    "        agree_probs.append(agree_prob)\n",
    "\n",
    "        u = np.random.uniform()\n",
    "\n",
    "        if u < agree_prob:\n",
    "\n",
    "\n",
    "            # CASE 1: 1/3 of the time, choose some element that is in the intersection of S domain (a) and L so far\n",
    "            # CASE 2: 1/3 of the time, choose some element that is in the intersection of L domain (b) and S so far\n",
    "            # CASE 3: 1/3 of the time, choose some element that has not yet been taken - from the intersection a and b\n",
    "\n",
    "            cases = [1, 2, 3]\n",
    "\n",
    "            intersection = None\n",
    "            \n",
    "            decision = random.sample(cases, 1)[0]\n",
    "            \n",
    "\n",
    "            if decision == 1:\n",
    "                intersection = a.intersection(set(L))\n",
    "\n",
    "            elif decision == 2:\n",
    "                intersection = b.intersection(set(S))\n",
    "            else:\n",
    "                intersection = a.intersection(b)\n",
    "        \n",
    "            if len(intersection) > 0:\n",
    "                item = random.sample(sorted(intersection), 1)[0]\n",
    "\n",
    "                if decision == 1:\n",
    "                    other_item = random.sample(sorted(b), 1)[0]\n",
    "                    \n",
    "                    S.append(item)\n",
    "                    L.append(other_item)\n",
    "\n",
    "                    case.append(1)\n",
    "                    \n",
    "                    \n",
    "                    a.remove(item)\n",
    "                    b.remove(other_item)\n",
    "                    \n",
    "                elif decision == 2:\n",
    "                    other_item = random.sample(sorted(a), 1)[0]\n",
    "\n",
    "                    S.append(other_item)\n",
    "                    L.append(item)\n",
    "\n",
    "                    case.append(2)\n",
    "\n",
    "                    a.remove(other_item)\n",
    "                    b.remove(item)\n",
    "                    \n",
    "\n",
    "                else:\n",
    "                    S.append(item)\n",
    "                    L.append(item)\n",
    "\n",
    "                    case.append(3)\n",
    "\n",
    "                    a.remove(item)\n",
    "                    b.remove(item)\n",
    "\n",
    "            else:\n",
    "                item_a = random.sample(sorted(a), 1)[0]\n",
    "                item_b = random.sample(sorted(b), 1)[0]\n",
    "        \n",
    "\n",
    "                S.append(item_a)\n",
    "                L.append(item_b)\n",
    "\n",
    "                case.append(0)\n",
    "\n",
    "                a.remove(item_a)\n",
    "                b.remove(item_b)            \n",
    "        else:\n",
    "            item_a = random.sample(sorted(a), 1)[0]\n",
    "            item_b = random.sample(sorted(b), 1)[0]\n",
    "\n",
    "            S.append(item_a)\n",
    "            L.append(item_b)\n",
    "\n",
    "            case.append(0)\n",
    "\n",
    "            a.remove(item_a)\n",
    "            b.remove(item_b)    \n",
    "\n",
    "    \n",
    "    # after rankings have been made, truncate\n",
    "\n",
    "    S_truncated = S[:len_x]\n",
    "\n",
    "    L_truncated = L[:len_y]\n",
    "\n",
    "    if return_truncated:\n",
    "        return S_truncated, L_truncated, agree_probs[:len_x], case[:len_x]\n",
    "    else:\n",
    "        return S, L, agree_probs, case"
   ]
  },
  {
   "cell_type": "code",
   "execution_count": null,
   "id": "2e0ac48e-1e32-49af-a4b5-a0d1a9b8cc4d",
   "metadata": {
    "scrolled": true
   },
   "outputs": [],
   "source": [
    "S, L, agree_probs, case_list = simulate_rankings(n=500, len_x = 40, len_y = 40, overlap_probability_function=agreement_probability(theta=0), conjointness=1,\n",
    "                                                return_truncated=False)\n",
    "data = {\n",
    "        'S' : S,\n",
    "        'L' : L,\n",
    "        'agreement_probability' : agree_probs,\n",
    "        'case' : case_list\n",
    "       }\n",
    "\n",
    "def highlight_equal_values(x):\n",
    "    color = 'background-color: green'\n",
    "    default = ''\n",
    "    # Comparison mask\n",
    "    case1 = x['case'] == 1\n",
    "    case2 = x['case'] == 2\n",
    "    case3 = x['case'] == 3\n",
    "\n",
    "    if case1:\n",
    "        return ['background-color: green','background-color: white', 'background-color: white', 'background-color: white']\n",
    "    if case2:\n",
    "        return ['background-color: white','background-color: green', 'background-color: white', 'background-color: white']\n",
    "    if case3:\n",
    "        return ['background-color: #00A6D6','background-color: #00A6D6', 'background-color: white', 'background-color: white']\n",
    "    else:\n",
    "        return ['background-color: white'] * len(x)\n",
    "\n",
    "\n",
    "df = pd.DataFrame(data, index =  np.arange(1, np.max([len(S), len(L)]) + 1))\n",
    "df.index.name ='Rank'\n",
    "\n",
    "styled_df = df.style.apply(highlight_equal_values, axis=1)\n",
    "print(\"RBO\", rbo.RankingSimilarity(S, L).rbo(p=0.95))\n",
    "styled_df"
   ]
  },
  {
   "cell_type": "markdown",
   "id": "319ac491-41f6-4d47-8219-c6f1e161120b",
   "metadata": {},
   "source": [
    "Save image for the poster"
   ]
  },
  {
   "cell_type": "code",
   "execution_count": null,
   "id": "c37ac32a-3ac7-4a31-a54c-19d63155dab9",
   "metadata": {},
   "outputs": [],
   "source": [
    "# dfi.export(styled_df, 't0.5c1.png')"
   ]
  },
  {
   "cell_type": "markdown",
   "id": "968eeb43-8fe1-4891-b9cc-d3a063d865c7",
   "metadata": {},
   "source": [
    "Find the average RBO scores"
   ]
  },
  {
   "cell_type": "code",
   "execution_count": null,
   "id": "924a7f99-4e50-4430-bff9-b70d74070723",
   "metadata": {},
   "outputs": [],
   "source": [
    "theta_values = [0, 0.2, 0.4, 0.6, 0.8, 1.0]\n",
    "\n",
    "average_rbo_ext = []\n",
    "\n",
    "for theta in theta_values:\n",
    "    rbo_exts = []\n",
    "    for _ in range(1000):\n",
    "        S, L, _, _ = simulate_rankings(n=200, len_x = 60, len_y = 60, overlap_probability_function=agreement_probability(theta=theta), conjointness=1)\n",
    "        # S, L, _ = simulate_rankings(n=200, len_x = 60, len_y = 60, conjointness=1, theta=theta)\n",
    "        rbo_ext = rbo.RankingSimilarity(S, L).rbo_ext(p=0.95)\n",
    "        rbo_exts.append(rbo_ext)\n",
    "    average_rbo_ext.append(np.mean(rbo_exts))\n"
   ]
  },
  {
   "cell_type": "code",
   "execution_count": null,
   "id": "cdf8df88-8803-414c-9a81-1c77a4db3391",
   "metadata": {},
   "outputs": [],
   "source": [
    "rbo_ext_df = pd.DataFrame(\n",
    "    {\n",
    "        \n",
    "        '$RBO_\\text{ext}$' : average_rbo_ext\n",
    "    },\n",
    "    index = theta_values\n",
    ")\n",
    "\n",
    "rbo_ext_df.index.name = \"$\\\\theta$\"\n",
    "rbo_ext_df.T"
   ]
  },
  {
   "cell_type": "code",
   "execution_count": null,
   "id": "900e082b-fcf4-46fc-84ab-7bc621ea512e",
   "metadata": {},
   "outputs": [],
   "source": [
    "dfi.export(rbo_ext_df, 'rbo_ext_df.png')"
   ]
  },
  {
   "cell_type": "markdown",
   "id": "15e31262-faa5-4a61-bf87-679e6d4fe4f8",
   "metadata": {},
   "source": [
    "Finding $Q_d$ for completely independent rankings which are fully conjoint"
   ]
  },
  {
   "cell_type": "code",
   "execution_count": null,
   "id": "377061ae-8608-4479-826b-20569261dfda",
   "metadata": {},
   "outputs": [],
   "source": [
    "def get_num_agreements(x, y):\n",
    "    total = 0\n",
    "    for i in range(len(x)):\n",
    "        if x[i] == y[i]:\n",
    "            total += 1\n",
    "    return total"
   ]
  },
  {
   "cell_type": "code",
   "execution_count": null,
   "id": "08ad4567-0b74-4462-bc32-92378b80d08f",
   "metadata": {},
   "outputs": [],
   "source": [
    "Qs = []\n",
    "\n",
    "a, b = generate_domains(1000, 1000, 1)\n",
    "A = list(a)\n",
    "B = list(b)\n",
    "\n",
    "for i in range(1000):\n",
    "    random.shuffle(A)\n",
    "    random.shuffle(B)\n",
    "\n",
    "    num_agreements = get_num_agreements(A, B)\n",
    "    Qs.append(num_agreements)"
   ]
  },
  {
   "cell_type": "code",
   "execution_count": null,
   "id": "dbbdb248-268e-42fd-ad26-e293d313d7aa",
   "metadata": {},
   "outputs": [],
   "source": [
    "frequency = Counter(Qs)\n",
    "\n",
    "# Prepare data for plotting\n",
    "categories = list(frequency.keys())\n",
    "counts = list(frequency.values())\n"
   ]
  },
  {
   "cell_type": "code",
   "execution_count": null,
   "id": "4d2a75bb-6c82-4bfa-be96-09dbc2fd8f34",
   "metadata": {},
   "outputs": [],
   "source": [
    "plt.bar(categories, counts, color='green')  # Customize color as needed"
   ]
  },
  {
   "cell_type": "markdown",
   "id": "1bcbfd67-2591-4090-b5c1-1d6319fe90d6",
   "metadata": {},
   "source": [
    "very top weighted\n",
    "\n",
    "S: i1 i2 i3 i4 i5 i8 i9 i10\n",
    "<br>\n",
    "L: i1 i2 i3 i4 i5 i9 i10 i8\n"
   ]
  },
  {
   "cell_type": "code",
   "execution_count": null,
   "id": "1220dd92-6203-4d9d-978a-d58b8c42024d",
   "metadata": {},
   "outputs": [],
   "source": [
    "random.sample([1, 2, 3], 1)"
   ]
  },
  {
   "cell_type": "code",
   "execution_count": null,
   "id": "1dcab2ae-527d-4eb5-823f-bc10443784e8",
   "metadata": {},
   "outputs": [],
   "source": []
  },
  {
   "cell_type": "code",
   "execution_count": null,
   "id": "80e39c11-9fd9-4648-a82c-298f9c8aba21",
   "metadata": {},
   "outputs": [],
   "source": []
  }
 ],
 "metadata": {
  "kernelspec": {
   "display_name": "Python 3 (ipykernel)",
   "language": "python",
   "name": "python3"
  },
  "language_info": {
   "codemirror_mode": {
    "name": "ipython",
    "version": 3
   },
   "file_extension": ".py",
   "mimetype": "text/x-python",
   "name": "python",
   "nbconvert_exporter": "python",
   "pygments_lexer": "ipython3",
   "version": "3.11.4"
  }
 },
 "nbformat": 4,
 "nbformat_minor": 5
}
